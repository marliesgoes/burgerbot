{
 "cells": [
  {
   "cell_type": "code",
   "execution_count": 1,
   "metadata": {},
   "outputs": [],
   "source": [
    "from DexArm_API.pydexarm.pydexarm import Dexarm"
   ]
  },
  {
   "cell_type": "code",
   "execution_count": 2,
   "metadata": {},
   "outputs": [
    {
     "ename": "SerialException",
     "evalue": "[Errno 6] could not open port /dev/tty.usbmodem308B335D34381: [Errno 6] Device not configured: '/dev/tty.usbmodem308B335D34381'",
     "output_type": "error",
     "traceback": [
      "\u001b[0;31m---------------------------------------------------------------------------\u001b[0m",
      "\u001b[0;31mOSError\u001b[0m                                   Traceback (most recent call last)",
      "File \u001b[0;32m~/miniconda3/envs/ml/lib/python3.12/site-packages/serial/serialposix.py:322\u001b[0m, in \u001b[0;36mSerial.open\u001b[0;34m(self)\u001b[0m\n\u001b[1;32m    321\u001b[0m \u001b[39mtry\u001b[39;00m:\n\u001b[0;32m--> 322\u001b[0m     \u001b[39mself\u001b[39m\u001b[39m.\u001b[39mfd \u001b[39m=\u001b[39m os\u001b[39m.\u001b[39;49mopen(\u001b[39mself\u001b[39;49m\u001b[39m.\u001b[39;49mportstr, os\u001b[39m.\u001b[39;49mO_RDWR \u001b[39m|\u001b[39;49m os\u001b[39m.\u001b[39;49mO_NOCTTY \u001b[39m|\u001b[39;49m os\u001b[39m.\u001b[39;49mO_NONBLOCK)\n\u001b[1;32m    323\u001b[0m \u001b[39mexcept\u001b[39;00m \u001b[39mOSError\u001b[39;00m \u001b[39mas\u001b[39;00m msg:\n",
      "\u001b[0;31mOSError\u001b[0m: [Errno 6] Device not configured: '/dev/tty.usbmodem308B335D34381'",
      "\nDuring handling of the above exception, another exception occurred:\n",
      "\u001b[0;31mSerialException\u001b[0m                           Traceback (most recent call last)",
      "\u001b[1;32m/Users/marliesgoes/KeepLocal/burgerbot/robot_control.ipynb Cell 2\u001b[0m line \u001b[0;36m1\n\u001b[0;32m----> <a href='vscode-notebook-cell:/Users/marliesgoes/KeepLocal/burgerbot/robot_control.ipynb#W1sZmlsZQ%3D%3D?line=0'>1</a>\u001b[0m dexarm \u001b[39m=\u001b[39m Dexarm(port\u001b[39m=\u001b[39;49m\u001b[39m\"\u001b[39;49m\u001b[39m/dev/tty.usbmodem308B335D34381\u001b[39;49m\u001b[39m\"\u001b[39;49m)\n",
      "File \u001b[0;32m~/KeepLocal/burgerbot/DexArm_API/pydexarm/pydexarm.py:13\u001b[0m, in \u001b[0;36mDexarm.__init__\u001b[0;34m(self, port)\u001b[0m\n\u001b[1;32m      8\u001b[0m \u001b[39mdef\u001b[39;00m \u001b[39m__init__\u001b[39m(\u001b[39mself\u001b[39m, port):\n\u001b[1;32m      9\u001b[0m \u001b[39m    \u001b[39m\u001b[39m\"\"\"\u001b[39;00m\n\u001b[1;32m     10\u001b[0m \u001b[39m    Args:\u001b[39;00m\n\u001b[1;32m     11\u001b[0m \u001b[39m        port (string): the serial port of Dexarm, e.g, \"COM3\"\u001b[39;00m\n\u001b[1;32m     12\u001b[0m \u001b[39m    \"\"\"\u001b[39;00m\n\u001b[0;32m---> 13\u001b[0m     \u001b[39mself\u001b[39m\u001b[39m.\u001b[39mser \u001b[39m=\u001b[39m serial\u001b[39m.\u001b[39;49mSerial(port, \u001b[39m115200\u001b[39;49m, timeout\u001b[39m=\u001b[39;49m\u001b[39mNone\u001b[39;49;00m)\n\u001b[1;32m     14\u001b[0m     \u001b[39mself\u001b[39m\u001b[39m.\u001b[39mis_open \u001b[39m=\u001b[39m \u001b[39mself\u001b[39m\u001b[39m.\u001b[39mser\u001b[39m.\u001b[39misOpen()\n\u001b[1;32m     15\u001b[0m     \u001b[39mif\u001b[39;00m \u001b[39mself\u001b[39m\u001b[39m.\u001b[39mis_open:\n",
      "File \u001b[0;32m~/miniconda3/envs/ml/lib/python3.12/site-packages/serial/serialutil.py:244\u001b[0m, in \u001b[0;36mSerialBase.__init__\u001b[0;34m(self, port, baudrate, bytesize, parity, stopbits, timeout, xonxoff, rtscts, write_timeout, dsrdtr, inter_byte_timeout, exclusive, **kwargs)\u001b[0m\n\u001b[1;32m    241\u001b[0m     \u001b[39mraise\u001b[39;00m \u001b[39mValueError\u001b[39;00m(\u001b[39m'\u001b[39m\u001b[39munexpected keyword arguments: \u001b[39m\u001b[39m{!r}\u001b[39;00m\u001b[39m'\u001b[39m\u001b[39m.\u001b[39mformat(kwargs))\n\u001b[1;32m    243\u001b[0m \u001b[39mif\u001b[39;00m port \u001b[39mis\u001b[39;00m \u001b[39mnot\u001b[39;00m \u001b[39mNone\u001b[39;00m:\n\u001b[0;32m--> 244\u001b[0m     \u001b[39mself\u001b[39;49m\u001b[39m.\u001b[39;49mopen()\n",
      "File \u001b[0;32m~/miniconda3/envs/ml/lib/python3.12/site-packages/serial/serialposix.py:325\u001b[0m, in \u001b[0;36mSerial.open\u001b[0;34m(self)\u001b[0m\n\u001b[1;32m    323\u001b[0m \u001b[39mexcept\u001b[39;00m \u001b[39mOSError\u001b[39;00m \u001b[39mas\u001b[39;00m msg:\n\u001b[1;32m    324\u001b[0m     \u001b[39mself\u001b[39m\u001b[39m.\u001b[39mfd \u001b[39m=\u001b[39m \u001b[39mNone\u001b[39;00m\n\u001b[0;32m--> 325\u001b[0m     \u001b[39mraise\u001b[39;00m SerialException(msg\u001b[39m.\u001b[39merrno, \u001b[39m\"\u001b[39m\u001b[39mcould not open port \u001b[39m\u001b[39m{}\u001b[39;00m\u001b[39m: \u001b[39m\u001b[39m{}\u001b[39;00m\u001b[39m\"\u001b[39m\u001b[39m.\u001b[39mformat(\u001b[39mself\u001b[39m\u001b[39m.\u001b[39m_port, msg))\n\u001b[1;32m    326\u001b[0m \u001b[39m#~ fcntl.fcntl(self.fd, fcntl.F_SETFL, 0)  # set blocking\u001b[39;00m\n\u001b[1;32m    328\u001b[0m \u001b[39mself\u001b[39m\u001b[39m.\u001b[39mpipe_abort_read_r, \u001b[39mself\u001b[39m\u001b[39m.\u001b[39mpipe_abort_read_w \u001b[39m=\u001b[39m \u001b[39mNone\u001b[39;00m, \u001b[39mNone\u001b[39;00m\n",
      "\u001b[0;31mSerialException\u001b[0m: [Errno 6] could not open port /dev/tty.usbmodem308B335D34381: [Errno 6] Device not configured: '/dev/tty.usbmodem308B335D34381'"
     ]
    }
   ],
   "source": [
    "dexarm = Dexarm(port=\"/dev/tty.usbmodem308B335D34381\")"
   ]
  },
  {
   "cell_type": "code",
   "execution_count": 2,
   "metadata": {},
   "outputs": [
    {
     "name": "stdout",
     "output_type": "stream",
     "text": [
      "\u001b[34m\u001b[43m/dev/tty.Bluetooth-Incoming-Port\u001b[m\u001b[m \u001b[34m\u001b[43m/dev/tty.usbmodem308B335D34381\u001b[m\u001b[m\n",
      "\u001b[34m\u001b[43m/dev/tty.JabraEliteActive65t\u001b[m\u001b[m     \u001b[34m\u001b[43m/dev/tty.wlan-debug\u001b[m\u001b[m\n"
     ]
    }
   ],
   "source": [
    "!ls /dev/tty.*"
   ]
  },
  {
   "cell_type": "code",
   "execution_count": null,
   "metadata": {},
   "outputs": [
    {
     "ename": "NameError",
     "evalue": "name 'dexarm' is not defined",
     "output_type": "error",
     "traceback": [
      "\u001b[0;31m---------------------------------------------------------------------------\u001b[0m",
      "\u001b[0;31mNameError\u001b[0m                                 Traceback (most recent call last)",
      "\u001b[1;32m/Users/marliesgoes/KeepLocal/burgerbot/robot_control.ipynb Cell 4\u001b[0m line \u001b[0;36m1\n\u001b[0;32m----> <a href='vscode-notebook-cell:/Users/marliesgoes/KeepLocal/burgerbot/robot_control.ipynb#W2sZmlsZQ%3D%3D?line=0'>1</a>\u001b[0m dexarm\u001b[39m.\u001b[39mgo_home()\n",
      "\u001b[0;31mNameError\u001b[0m: name 'dexarm' is not defined"
     ]
    }
   ],
   "source": [
    "dexarm.go_home()"
   ]
  },
  {
   "cell_type": "code",
   "execution_count": null,
   "metadata": {},
   "outputs": [],
   "source": [
    "dexarm.move_to(200, 0, 0)"
   ]
  },
  {
   "cell_type": "code",
   "execution_count": null,
   "metadata": {},
   "outputs": [],
   "source": [
    "dexarm.move_to(336.83393557, 117.08300431, -20)"
   ]
  },
  {
   "cell_type": "code",
   "execution_count": null,
   "metadata": {},
   "outputs": [],
   "source": []
  }
 ],
 "metadata": {
  "kernelspec": {
   "display_name": "ml",
   "language": "python",
   "name": "python3"
  },
  "language_info": {
   "codemirror_mode": {
    "name": "ipython",
    "version": 3
   },
   "file_extension": ".py",
   "mimetype": "text/x-python",
   "name": "python",
   "nbconvert_exporter": "python",
   "pygments_lexer": "ipython3",
   "version": "3.12.0"
  }
 },
 "nbformat": 4,
 "nbformat_minor": 2
}

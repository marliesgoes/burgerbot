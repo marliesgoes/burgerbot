{
 "cells": [
  {
   "cell_type": "code",
   "execution_count": 30,
   "metadata": {},
   "outputs": [],
   "source": [
    "from DexArm_API.pydexarm.pydexarm import Dexarm"
   ]
  },
  {
   "cell_type": "code",
   "execution_count": 31,
   "metadata": {},
   "outputs": [
    {
     "name": "stdout",
     "output_type": "stream",
     "text": [
      "pydexarm: /dev/tty.usbmodem308B335D34381 open\n"
     ]
    }
   ],
   "source": [
    "dexarm = Dexarm(port=\"/dev/tty.usbmodem308B335D34381\")"
   ]
  },
  {
   "cell_type": "code",
   "execution_count": 35,
   "metadata": {},
   "outputs": [
    {
     "name": "stdout",
     "output_type": "stream",
     "text": [
      "read： 1112\n",
      "\n"
     ]
    },
    {
     "ename": "SerialException",
     "evalue": "read failed: [Errno 6] Device not configured",
     "output_type": "error",
     "traceback": [
      "\u001b[0;31m---------------------------------------------------------------------------\u001b[0m",
      "\u001b[0;31mOSError\u001b[0m                                   Traceback (most recent call last)",
      "File \u001b[0;32m~/miniconda3/envs/ml/lib/python3.12/site-packages/serial/serialposix.py:575\u001b[0m, in \u001b[0;36mSerial.read\u001b[0;34m(self, size)\u001b[0m\n\u001b[1;32m    574\u001b[0m         \u001b[39mbreak\u001b[39;00m   \u001b[39m# timeout\u001b[39;00m\n\u001b[0;32m--> 575\u001b[0m     buf \u001b[39m=\u001b[39m os\u001b[39m.\u001b[39;49mread(\u001b[39mself\u001b[39;49m\u001b[39m.\u001b[39;49mfd, size \u001b[39m-\u001b[39;49m \u001b[39mlen\u001b[39;49m(read))\n\u001b[1;32m    576\u001b[0m \u001b[39mexcept\u001b[39;00m \u001b[39mOSError\u001b[39;00m \u001b[39mas\u001b[39;00m e:\n\u001b[1;32m    577\u001b[0m     \u001b[39m# this is for Python 3.x where select.error is a subclass of\u001b[39;00m\n\u001b[1;32m    578\u001b[0m     \u001b[39m# OSError ignore BlockingIOErrors and EINTR. other errors are shown\u001b[39;00m\n\u001b[1;32m    579\u001b[0m     \u001b[39m# https://www.python.org/dev/peps/pep-0475.\u001b[39;00m\n",
      "\u001b[0;31mOSError\u001b[0m: [Errno 6] Device not configured",
      "\nDuring handling of the above exception, another exception occurred:\n",
      "\u001b[0;31mSerialException\u001b[0m                           Traceback (most recent call last)",
      "\u001b[1;32m/Users/marliesgoes/Desktop/CMU/03_TTR/burgerbot/robot_control.ipynb Cell 3\u001b[0m line \u001b[0;36m1\n\u001b[0;32m----> <a href='vscode-notebook-cell:/Users/marliesgoes/Desktop/CMU/03_TTR/burgerbot/robot_control.ipynb#X14sZmlsZQ%3D%3D?line=0'>1</a>\u001b[0m dexarm\u001b[39m.\u001b[39;49mgo_home()\n",
      "File \u001b[0;32m~/Desktop/CMU/03_TTR/burgerbot/DexArm_API/pydexarm/pydexarm.py:47\u001b[0m, in \u001b[0;36mDexarm.go_home\u001b[0;34m(self)\u001b[0m\n\u001b[1;32m     43\u001b[0m \u001b[39mdef\u001b[39;00m \u001b[39mgo_home\u001b[39m(\u001b[39mself\u001b[39m):\n\u001b[1;32m     44\u001b[0m \u001b[39m    \u001b[39m\u001b[39m\"\"\"\u001b[39;00m\n\u001b[1;32m     45\u001b[0m \u001b[39m    Go to home position and enable the motors. Should be called each time when power on.\u001b[39;00m\n\u001b[1;32m     46\u001b[0m \u001b[39m    \"\"\"\u001b[39;00m\n\u001b[0;32m---> 47\u001b[0m     \u001b[39mself\u001b[39;49m\u001b[39m.\u001b[39;49m_send_cmd(\u001b[39m\"\u001b[39;49m\u001b[39mM1112\u001b[39;49m\u001b[39m\\r\u001b[39;49;00m\u001b[39m\"\u001b[39;49m)\n",
      "File \u001b[0;32m~/Desktop/CMU/03_TTR/burgerbot/DexArm_API/pydexarm/pydexarm.py:35\u001b[0m, in \u001b[0;36mDexarm._send_cmd\u001b[0;34m(self, data, wait)\u001b[0m\n\u001b[1;32m     33\u001b[0m     \u001b[39mreturn\u001b[39;00m\n\u001b[1;32m     34\u001b[0m \u001b[39mwhile\u001b[39;00m \u001b[39mTrue\u001b[39;00m:\n\u001b[0;32m---> 35\u001b[0m     serial_str \u001b[39m=\u001b[39m \u001b[39mself\u001b[39;49m\u001b[39m.\u001b[39;49mser\u001b[39m.\u001b[39;49mreadline()\u001b[39m.\u001b[39mdecode(\u001b[39m\"\u001b[39m\u001b[39mutf-8\u001b[39m\u001b[39m\"\u001b[39m)\n\u001b[1;32m     36\u001b[0m     \u001b[39mif\u001b[39;00m \u001b[39mlen\u001b[39m(serial_str) \u001b[39m>\u001b[39m \u001b[39m0\u001b[39m:\n\u001b[1;32m     37\u001b[0m         \u001b[39mif\u001b[39;00m serial_str\u001b[39m.\u001b[39mfind(\u001b[39m\"\u001b[39m\u001b[39mok\u001b[39m\u001b[39m\"\u001b[39m) \u001b[39m>\u001b[39m \u001b[39m-\u001b[39m\u001b[39m1\u001b[39m:\n",
      "File \u001b[0;32m~/miniconda3/envs/ml/lib/python3.12/site-packages/serial/serialposix.py:581\u001b[0m, in \u001b[0;36mSerial.read\u001b[0;34m(self, size)\u001b[0m\n\u001b[1;32m    576\u001b[0m \u001b[39mexcept\u001b[39;00m \u001b[39mOSError\u001b[39;00m \u001b[39mas\u001b[39;00m e:\n\u001b[1;32m    577\u001b[0m     \u001b[39m# this is for Python 3.x where select.error is a subclass of\u001b[39;00m\n\u001b[1;32m    578\u001b[0m     \u001b[39m# OSError ignore BlockingIOErrors and EINTR. other errors are shown\u001b[39;00m\n\u001b[1;32m    579\u001b[0m     \u001b[39m# https://www.python.org/dev/peps/pep-0475.\u001b[39;00m\n\u001b[1;32m    580\u001b[0m     \u001b[39mif\u001b[39;00m e\u001b[39m.\u001b[39merrno \u001b[39mnot\u001b[39;00m \u001b[39min\u001b[39;00m (errno\u001b[39m.\u001b[39mEAGAIN, errno\u001b[39m.\u001b[39mEALREADY, errno\u001b[39m.\u001b[39mEWOULDBLOCK, errno\u001b[39m.\u001b[39mEINPROGRESS, errno\u001b[39m.\u001b[39mEINTR):\n\u001b[0;32m--> 581\u001b[0m         \u001b[39mraise\u001b[39;00m SerialException(\u001b[39m'\u001b[39m\u001b[39mread failed: \u001b[39m\u001b[39m{}\u001b[39;00m\u001b[39m'\u001b[39m\u001b[39m.\u001b[39mformat(e))\n\u001b[1;32m    582\u001b[0m \u001b[39mexcept\u001b[39;00m select\u001b[39m.\u001b[39merror \u001b[39mas\u001b[39;00m e:\n\u001b[1;32m    583\u001b[0m     \u001b[39m# this is for Python 2.x\u001b[39;00m\n\u001b[1;32m    584\u001b[0m     \u001b[39m# ignore BlockingIOErrors and EINTR. all errors are shown\u001b[39;00m\n\u001b[1;32m    585\u001b[0m     \u001b[39m# see also http://www.python.org/dev/peps/pep-3151/#select\u001b[39;00m\n\u001b[1;32m    586\u001b[0m     \u001b[39mif\u001b[39;00m e[\u001b[39m0\u001b[39m] \u001b[39mnot\u001b[39;00m \u001b[39min\u001b[39;00m (errno\u001b[39m.\u001b[39mEAGAIN, errno\u001b[39m.\u001b[39mEALREADY, errno\u001b[39m.\u001b[39mEWOULDBLOCK, errno\u001b[39m.\u001b[39mEINPROGRESS, errno\u001b[39m.\u001b[39mEINTR):\n",
      "\u001b[0;31mSerialException\u001b[0m: read failed: [Errno 6] Device not configured"
     ]
    }
   ],
   "source": [
    "dexarm.go_home()"
   ]
  },
  {
   "cell_type": "code",
   "execution_count": 33,
   "metadata": {},
   "outputs": [
    {
     "ename": "SerialException",
     "evalue": "device reports readiness to read but returned no data (device disconnected or multiple access on port?)",
     "output_type": "error",
     "traceback": [
      "\u001b[0;31m---------------------------------------------------------------------------\u001b[0m",
      "\u001b[0;31mSerialException\u001b[0m                           Traceback (most recent call last)",
      "\u001b[1;32m/Users/marliesgoes/Desktop/CMU/03_TTR/burgerbot/robot_control.ipynb Cell 4\u001b[0m line \u001b[0;36m1\n\u001b[0;32m----> <a href='vscode-notebook-cell:/Users/marliesgoes/Desktop/CMU/03_TTR/burgerbot/robot_control.ipynb#X15sZmlsZQ%3D%3D?line=0'>1</a>\u001b[0m dexarm\u001b[39m.\u001b[39;49mmove_to(\u001b[39m200\u001b[39;49m, \u001b[39m0\u001b[39;49m, \u001b[39m0\u001b[39;49m)\n",
      "File \u001b[0;32m~/Desktop/CMU/03_TTR/burgerbot/DexArm_API/pydexarm/pydexarm.py:123\u001b[0m, in \u001b[0;36mDexarm.move_to\u001b[0;34m(self, x, y, z, e, feedrate, mode, wait)\u001b[0m\n\u001b[1;32m    121\u001b[0m     cmd \u001b[39m=\u001b[39m cmd \u001b[39m+\u001b[39m \u001b[39m\"\u001b[39m\u001b[39mE\u001b[39m\u001b[39m\"\u001b[39m \u001b[39m+\u001b[39m \u001b[39mstr\u001b[39m(\u001b[39mround\u001b[39m(e))\n\u001b[1;32m    122\u001b[0m cmd \u001b[39m=\u001b[39m cmd \u001b[39m+\u001b[39m \u001b[39m\"\u001b[39m\u001b[39m\\r\u001b[39;00m\u001b[39m\\n\u001b[39;00m\u001b[39m\"\u001b[39m\n\u001b[0;32m--> 123\u001b[0m \u001b[39mself\u001b[39;49m\u001b[39m.\u001b[39;49m_send_cmd(cmd, wait\u001b[39m=\u001b[39;49mwait)\n",
      "File \u001b[0;32m~/Desktop/CMU/03_TTR/burgerbot/DexArm_API/pydexarm/pydexarm.py:35\u001b[0m, in \u001b[0;36mDexarm._send_cmd\u001b[0;34m(self, data, wait)\u001b[0m\n\u001b[1;32m     33\u001b[0m     \u001b[39mreturn\u001b[39;00m\n\u001b[1;32m     34\u001b[0m \u001b[39mwhile\u001b[39;00m \u001b[39mTrue\u001b[39;00m:\n\u001b[0;32m---> 35\u001b[0m     serial_str \u001b[39m=\u001b[39m \u001b[39mself\u001b[39;49m\u001b[39m.\u001b[39;49mser\u001b[39m.\u001b[39;49mreadline()\u001b[39m.\u001b[39mdecode(\u001b[39m\"\u001b[39m\u001b[39mutf-8\u001b[39m\u001b[39m\"\u001b[39m)\n\u001b[1;32m     36\u001b[0m     \u001b[39mif\u001b[39;00m \u001b[39mlen\u001b[39m(serial_str) \u001b[39m>\u001b[39m \u001b[39m0\u001b[39m:\n\u001b[1;32m     37\u001b[0m         \u001b[39mif\u001b[39;00m serial_str\u001b[39m.\u001b[39mfind(\u001b[39m\"\u001b[39m\u001b[39mok\u001b[39m\u001b[39m\"\u001b[39m) \u001b[39m>\u001b[39m \u001b[39m-\u001b[39m\u001b[39m1\u001b[39m:\n",
      "File \u001b[0;32m~/miniconda3/envs/ml/lib/python3.12/site-packages/serial/serialposix.py:595\u001b[0m, in \u001b[0;36mSerial.read\u001b[0;34m(self, size)\u001b[0m\n\u001b[1;32m    588\u001b[0m \u001b[39melse\u001b[39;00m:\n\u001b[1;32m    589\u001b[0m     \u001b[39m# read should always return some data as select reported it was\u001b[39;00m\n\u001b[1;32m    590\u001b[0m     \u001b[39m# ready to read when we get to this point.\u001b[39;00m\n\u001b[1;32m    591\u001b[0m     \u001b[39mif\u001b[39;00m \u001b[39mnot\u001b[39;00m buf:\n\u001b[1;32m    592\u001b[0m         \u001b[39m# Disconnected devices, at least on Linux, show the\u001b[39;00m\n\u001b[1;32m    593\u001b[0m         \u001b[39m# behavior that they are always ready to read immediately\u001b[39;00m\n\u001b[1;32m    594\u001b[0m         \u001b[39m# but reading returns nothing.\u001b[39;00m\n\u001b[0;32m--> 595\u001b[0m         \u001b[39mraise\u001b[39;00m SerialException(\n\u001b[1;32m    596\u001b[0m             \u001b[39m'\u001b[39m\u001b[39mdevice reports readiness to read but returned no data \u001b[39m\u001b[39m'\u001b[39m\n\u001b[1;32m    597\u001b[0m             \u001b[39m'\u001b[39m\u001b[39m(device disconnected or multiple access on port?)\u001b[39m\u001b[39m'\u001b[39m)\n\u001b[1;32m    598\u001b[0m     read\u001b[39m.\u001b[39mextend(buf)\n\u001b[1;32m    600\u001b[0m \u001b[39mif\u001b[39;00m timeout\u001b[39m.\u001b[39mexpired():\n",
      "\u001b[0;31mSerialException\u001b[0m: device reports readiness to read but returned no data (device disconnected or multiple access on port?)"
     ]
    }
   ],
   "source": [
    "dexarm.move_to(200, 0, 0)"
   ]
  },
  {
   "cell_type": "code",
   "execution_count": 34,
   "metadata": {},
   "outputs": [
    {
     "name": "stdout",
     "output_type": "stream",
     "text": [
      "read ok\n"
     ]
    }
   ],
   "source": [
    "dexarm.move_to(336.83393557, 117.08300431, -20)"
   ]
  },
  {
   "cell_type": "code",
   "execution_count": null,
   "metadata": {},
   "outputs": [],
   "source": []
  }
 ],
 "metadata": {
  "kernelspec": {
   "display_name": "ml",
   "language": "python",
   "name": "python3"
  },
  "language_info": {
   "codemirror_mode": {
    "name": "ipython",
    "version": 3
   },
   "file_extension": ".py",
   "mimetype": "text/x-python",
   "name": "python",
   "nbconvert_exporter": "python",
   "pygments_lexer": "ipython3",
   "version": "3.12.0"
  }
 },
 "nbformat": 4,
 "nbformat_minor": 2
}
